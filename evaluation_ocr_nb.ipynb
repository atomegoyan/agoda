{
 "cells": [
  {
   "cell_type": "code",
   "execution_count": 31,
   "id": "d23865ba",
   "metadata": {},
   "outputs": [],
   "source": [
    "import os\n",
    "import regex as re\n",
    "os.chdir(\"/home/atom/Bureau/Aurelien/epitech/Text Eval 1.5\")"
   ]
  },
  {
   "cell_type": "code",
   "execution_count": 83,
   "id": "0ba5d619",
   "metadata": {},
   "outputs": [],
   "source": [
    "with open(\"/home/atom/Bureau/Aurelien/epitech/agoda/eval-ocr/results_ocr/abby-humanum/1889-11-27-abbyhn/1889-11-27-1-abbyyhn.txt\") as f:\n",
    "    text = f.read()\n",
    "    \n",
    "with open(\"/home/atom/Bureau/Aurelien/epitech/agoda/eval-ocr/results_ocr/abby-humanum-modified/1889-11-27-abby_mod.txt\",\"w\") as f:\n",
    "    f.write(re.sub(r\"\\s+\",\" \",re.sub(r\"(\\n+\\s*)\",\"\\n\",text)))\n",
    "    "
   ]
  },
  {
   "cell_type": "code",
   "execution_count": 81,
   "id": "9d93b61f",
   "metadata": {},
   "outputs": [],
   "source": [
    "with open(\"/home/atom/Bureau/Aurelien/epitech/agoda/eval-ocr/results_ocr/abby-humanum-modified/1889-11-27-abby_mod.txt\") as f:\n",
    "    text = f.read()"
   ]
  },
  {
   "cell_type": "markdown",
   "id": "8fa20410",
   "metadata": {},
   "source": [
    "clean the tess ocr file"
   ]
  },
  {
   "cell_type": "code",
   "execution_count": 47,
   "id": "2e753147",
   "metadata": {},
   "outputs": [],
   "source": [
    "with open(\"/home/atom/Bureau/Aurelien/epitech/agoda/eval-ocr/results_ocr/tesseract-humanum/1889-11-27-tesseracthn/1889-11-27-1-tesseracthn.txt\") as f:\n",
    "    text = f.read()\n",
    "    \n",
    "with open(\"/home/atom/Bureau/Aurelien/epitech/agoda/eval-ocr/results_ocr/tesseract-humanum-modified/1889-11-27-1-tessetacthn_mod.txt\",\"w\") as f:\n",
    "    f.write(re.sub(r\"\\n+\\s*\",\"\\n\",text))\n",
    "    \n"
   ]
  },
  {
   "cell_type": "markdown",
   "id": "ee658935",
   "metadata": {},
   "source": [
    "clean the gt file"
   ]
  },
  {
   "cell_type": "code",
   "execution_count": 50,
   "id": "985cd7ff",
   "metadata": {},
   "outputs": [],
   "source": [
    "with open(\"/home/atom/Bureau/Aurelien/epitech/agoda/eval-ocr/ground-truth/1889-11-27-gt/1889-11-27-1-gt.txt\") as f:\n",
    "    text = f.read()\n",
    "    \n",
    "with open(\"/home/atom/Bureau/Aurelien/epitech/agoda/eval-ocr/results_ocr/gt_modified/1889-11-27-1-gt_mod.txt\",\"w\") as f:\n",
    "    f.write(re.sub(r\"\\n+\\s*\",\"\\n\",text))"
   ]
  },
  {
   "cell_type": "code",
   "execution_count": 84,
   "id": "818c09f1",
   "metadata": {},
   "outputs": [
    {
     "name": "stdout",
     "output_type": "stream",
     "text": [
      "\"9300\",\"9280\",\"0.2256989247311828\"\r\n"
     ]
    }
   ],
   "source": [
    "!java -jar PrimaText.jar \\\n",
    "-gt-text /home/atom/Bureau/Aurelien/epitech/agoda/eval-ocr/results_ocr/gt_modified/1889-11-27-1-gt_mod.txt \\\n",
    "-res-text /home/atom/Bureau/Aurelien/epitech/agoda/eval-ocr/results_ocr/abby-humanum-modified/1889-11-27-abby_mod.txt \\\n",
    "-method CharacterAccuracy"
   ]
  },
  {
   "cell_type": "code",
   "execution_count": 52,
   "id": "dc83ca49",
   "metadata": {},
   "outputs": [
    {
     "name": "stdout",
     "output_type": "stream",
     "text": [
      "\"9300\",\"9199\",\"0.9580645161290322\"\r\n"
     ]
    }
   ],
   "source": [
    "!java -jar PrimaText.jar \\\n",
    "-gt-text /home/atom/Bureau/Aurelien/epitech/agoda/eval-ocr/results_ocr/gt_modified/1889-11-27-1-gt_mod.txt \\\n",
    "-res-text /home/atom/Bureau/Aurelien/epitech/agoda/eval-ocr/results_ocr/tesseract-humanum-modified/1889-11-27-1-tessetacthn_mod.txt \\\n",
    "-method CharacterAccuracy"
   ]
  }
 ],
 "metadata": {
  "kernelspec": {
   "display_name": "base",
   "language": "python",
   "name": "base"
  },
  "language_info": {
   "codemirror_mode": {
    "name": "ipython",
    "version": 3
   },
   "file_extension": ".py",
   "mimetype": "text/x-python",
   "name": "python",
   "nbconvert_exporter": "python",
   "pygments_lexer": "ipython3",
   "version": "3.9.7"
  }
 },
 "nbformat": 4,
 "nbformat_minor": 5
}
