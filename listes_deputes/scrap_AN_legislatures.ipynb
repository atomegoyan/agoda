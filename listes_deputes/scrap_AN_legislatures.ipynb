{
 "cells": [
  {
   "cell_type": "markdown",
   "metadata": {},
   "source": [
    "# Webscraping des députés de l'AN pour  AGODA"
   ]
  },
  {
   "cell_type": "markdown",
   "metadata": {},
   "source": [
    "La fonction ci-dessous permet de sélectionner des législatures (cf la correspondance des numéros dans le fichier \"liste_legislatures.csv\" et d'obtenir en sortie la liste des députés ayant siégé durant ces législatures sous forme d'un fichier .csv. Pour chaque député on dispose de : \n",
    "\n",
    "* son identifiant numérique dans la base publiée sur le site web de l'assemblée nationale\n",
    "* son nom\n",
    "* ses prénoms\n",
    "* le lien vers sa page du site web de l'Assemblée nationale\n",
    "* son année de naissance\n",
    "* son mois de naissance\n",
    "* son jour de naissance\n",
    "* son année de décès\n",
    "* son mois de décès\n",
    "* son jour de décès"
   ]
  },
  {
   "cell_type": "code",
   "execution_count": null,
   "metadata": {},
   "outputs": [],
   "source": [
    "def scrap_AN_legislatures(debut, fin):\n",
    "    import requests\n",
    "    import bs4 as bs\n",
    "    import pandas as pd\n",
    "    debut = int(debut)\n",
    "    fin = int(fin + 1)\n",
    "    legislatures = range(debut, fin)\n",
    "    url = \"http://www2.assemblee-nationale.fr/sycomore/liste/(legislature)/\"\n",
    "    df_complet = pd.DataFrame(columns=[\"id_depute\", \"nom\", \"prenom\", \"lien\",\"naissance_j\", \"naissance_m\", \"naissance_a\", \"deces_j\", \"deces_m\", \"deces_a\" ])\n",
    "\n",
    "    for leg in legislatures:\n",
    "        mois = {\"janvier\": \"1\", \"février\": \"2\", \"mars\": \"3\", \"avril\": \"4\", \"mai\": \"5\", \"juin\": \"6\",\\\n",
    "                \"juillet\": \"7\", \"août\": \"7\", \"septembre\": \"9\", \"octobre\": \"10\", \"novembre\": \"11\", \"décembre\": \"12\"}\n",
    "        r = requests.get(url + str(leg))\n",
    "        pageWeb = r.text\n",
    "        localisation_depart = pageWeb.find(\"<table class=\\\"sycomore\\\">\")\n",
    "        localisation_fin = pageWeb.find(\"</table>\")\n",
    "        tableau_seul = pageWeb[localisation_depart:localisation_fin]\n",
    "        soup = bs.BeautifulSoup(tableau_seul, 'lxml')\n",
    "        all_tr = list(soup.find_all(\"tr\"))\n",
    "        all_tr_data = all_tr[1:]\n",
    "        \n",
    "        nom = []\n",
    "        prenom = []\n",
    "        lien = []\n",
    "        id_depute = []\n",
    "        date_naissance = []\n",
    "        date_deces = []\n",
    "        \n",
    "        for data in all_tr_data:\n",
    "            \n",
    "            id_depute.append(int(data.find('a').get('href').replace(\"/sycomore/fiche/(num_dept)/\", \"\")))\n",
    "            nom.append(data.td['data-sort'])\n",
    "            prenom.append(data.td.get_text().replace(data.find('strong').string, \"\").strip())\n",
    "            lien.append(\"http://www2.assemblee-nationale.fr\" + data.find('a').get('href'))\n",
    "            date_naissance.append(data.find_all('td')[1].string)\n",
    "            date_deces.append(data.find_all('td')[2].string)\n",
    "    \n",
    "        data_dic = {\"id_depute\": id_depute, \n",
    "                    \"nom\": nom, \n",
    "                    \"prenom\": prenom, \n",
    "                    \"lien\": lien, \n",
    "                    \"date_naissance\": date_naissance,\n",
    "                    \"date_deces\": date_deces} \n",
    "\n",
    "        df = pd.DataFrame(data_dic)\n",
    "        df[[\"date_naissance\", \"naissance_m\", \"naissance_a\"]] = df[\"date_naissance\"].str.split(expand=True).replace(\"1er\", \"1\")\n",
    "        df[[\"date_deces\", \"deces_m\", \"deces_a\"]] = df[\"date_deces\"].str.split(expand=True).replace(\"1er\", \"1\")\n",
    "        df.rename(columns = {\"date_naissance\": \"naissance_j\", \"date_deces\": \"deces_j\"}, inplace=True)\n",
    "        df = df[[\"id_depute\", \"nom\", \"prenom\", \"lien\",\"naissance_j\", \"naissance_m\", \"naissance_a\",\\\n",
    "                 \"deces_j\", \"deces_m\", \"deces_a\" ]]\n",
    "       \n",
    "        df[\"naissance_m\"] = df[\"naissance_m\"].map(mois, na_action = 'ignore')\n",
    "        df[\"deces_m\"] = df[\"deces_m\"].map(mois, na_action = 'ignore')\n",
    "# On enregistre localement le DF contenant la liste des députés de la législature        \n",
    "        df.to_csv(\"legislature\" + str(leg) + \".csv\", sep=\"|\", index=False)\n",
    "# On insère la liste des députés de la législature dans le DF df_complet en supprimant les doublons\n",
    "        df_complet = pd.concat([df_complet, df], ignore_index=True).drop_duplicates()\n",
    "    \n",
    "    df_complet.to_csv(\"legislature\" + str(debut) + \"_\" + str(fin - 1) + \".csv\", sep=\"|\", index=False)\n"
   ]
  },
  {
   "attachments": {},
   "cell_type": "markdown",
   "metadata": {},
   "source": [
    "Dans la liste des législatures, les trois suivantes\n",
    "\n",
    "* 10/11/1885 - 11/11/1889 ;  IVe législature\n",
    "* 12/11/1889 - 14/10/1893 ;  Ve législature\n",
    "* 15/10/1893 - 31/05/1898 ;  VIe législature\n",
    "\n",
    "ont respectivement les numéros 30, 31 et 32.\n",
    "\n",
    "le script ci-dessous permet d'obtenir la liste des députés pour chaque législatures et la liste globale des députés ayant siégé durant ces législatures, sans doublons.\n",
    "\n",
    "\n"
   ]
  },
  {
   "cell_type": "code",
   "execution_count": null,
   "metadata": {},
   "outputs": [],
   "source": [
    "scrap_AN_legislatures(30, 32)"
   ]
  }
 ],
 "metadata": {
  "kernelspec": {
   "display_name": "Python 3",
   "language": "python",
   "name": "python3"
  },
  "language_info": {
   "codemirror_mode": {
    "name": "ipython",
    "version": 3
   },
   "file_extension": ".py",
   "mimetype": "text/x-python",
   "name": "python",
   "nbconvert_exporter": "python",
   "pygments_lexer": "ipython3",
   "version": "3.8.5"
  },
  "latex_envs": {
   "LaTeX_envs_menu_present": true,
   "autoclose": false,
   "autocomplete": true,
   "bibliofile": "biblio.bib",
   "cite_by": "apalike",
   "current_citInitial": 1,
   "eqLabelWithNumbers": true,
   "eqNumInitial": 1,
   "hotkeys": {
    "equation": "Ctrl-E",
    "itemize": "Ctrl-I"
   },
   "labels_anchors": false,
   "latex_user_defs": false,
   "report_style_numbering": false,
   "user_envs_cfg": false
  },
  "toc": {
   "base_numbering": 1,
   "nav_menu": {},
   "number_sections": true,
   "sideBar": true,
   "skip_h1_title": false,
   "title_cell": "Table of Contents",
   "title_sidebar": "Contents",
   "toc_cell": false,
   "toc_position": {},
   "toc_section_display": true,
   "toc_window_display": false
  }
 },
 "nbformat": 4,
 "nbformat_minor": 4
}
